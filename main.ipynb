{
 "cells": [
  {
   "cell_type": "code",
   "execution_count": null,
   "metadata": {},
   "outputs": [],
   "source": [
    "# importing Dependencies\n",
    "import requests\n",
    "import json\n",
    "import pandas as pd"
   ]
  },
  {
   "cell_type": "code",
   "execution_count": null,
   "metadata": {},
   "outputs": [],
   "source": [
    "#Querying for team names \n",
    "url = \"https://api-football-v1.p.rapidapi.com/v3/teams\"\n",
    "\n",
    "querystring = {\"league\":\"371\",\"season\":\"2023\"}\n",
    "\n",
    "headers = {\n",
    "\t\"X-RapidAPI-Key\": ,\n",
    "\t\"X-RapidAPI-Host\": \n",
    "}\n",
    "\n",
    "response_team = requests.get(url, headers=headers, params=querystring)\n",
    "\n",
    "print(json.dumps(response_team.json(), indent=4))\n",
    "response_team_j = response_team.json()"
   ]
  },
  {
   "cell_type": "code",
   "execution_count": null,
   "metadata": {},
   "outputs": [],
   "source": [
    "#creating list of league data\n",
    "team_id = []\n",
    "team_name = []"
   ]
  },
  {
   "cell_type": "code",
   "execution_count": null,
   "metadata": {},
   "outputs": [],
   "source": [
    "#looping through to get team\n",
    "index = 0 \n",
    "while index < len(response_team_j['response']):\n",
    "    team_id.append(response_team_j['response'][index]['team']['id'])\n",
    "    team_name.append(response_team_j['response'][index]['team']['name'])\n",
    "    index += 1"
   ]
  },
  {
   "cell_type": "code",
   "execution_count": null,
   "metadata": {},
   "outputs": [],
   "source": [
    "#Creating a teams dataframe \n",
    "#Column anmes \n",
    "columns = ['Team_ID', 'Team_Name']\n",
    "\n",
    "#Creating dataframe \n",
    "league_df = pd.DataFrame(list(zip(team_id, team_name)), columns=columns)\n",
    "\n",
    "#Printing league\n",
    "league_df.head()"
   ]
  },
  {
   "cell_type": "code",
   "execution_count": null,
   "metadata": {},
   "outputs": [],
   "source": [
    "#Querying for all leagues  Akademija Pandev (Brera Strumica) participates in \n",
    "url = \"https://api-football-v1.p.rapidapi.com/v3/leagues\"\n",
    "\n",
    "querystring = {\"team\":\"4194\"}\n",
    "\n",
    "team_league = requests.get(url, headers=headers, params=querystring)\n",
    "\n",
    "print(json.dumps(team_league.json(), indent=4))\n",
    "team_league_j = team_league.json()"
   ]
  },
  {
   "cell_type": "code",
   "execution_count": null,
   "metadata": {},
   "outputs": [],
   "source": [
    "#creating list of league data\n",
    "league_id = []\n",
    "league_name = []\n",
    "league_country =[]"
   ]
  },
  {
   "cell_type": "code",
   "execution_count": null,
   "metadata": {},
   "outputs": [],
   "source": [
    "#Going through team league table to idenfiy league ID, name and country\n",
    "index = 0 \n",
    "while index < len(team_league_j['response']):\n",
    "    league_id.append(team_league_j['response'][index]['league']['id'])\n",
    "    league_name.append(team_league_j['response'][index]['league']['name'])\n",
    "    league_country.append(team_league_j['response'][index]['country']['name'])\n",
    "    index += 1"
   ]
  },
  {
   "cell_type": "code",
   "execution_count": null,
   "metadata": {},
   "outputs": [],
   "source": [
    "#Column anmes \n",
    "columns = ['League_ID', 'League_Name', 'League_Country']\n",
    "\n",
    "#Creating dataframe \n",
    "team_league_df = pd.DataFrame(list(zip(league_id, league_name, league_country)), columns=columns)\n",
    "\n",
    "#Printing league\n",
    "team_league_df.head()"
   ]
  },
  {
   "cell_type": "code",
   "execution_count": null,
   "metadata": {},
   "outputs": [],
   "source": [
    "#Creating a list with league ID we want to search for in this case just the First Macedonia League\n",
    "league_numbers = ['371']\n",
    "\n",
    "#api link for player stats\n",
    "url_player = \"https://api-football-v1.p.rapidapi.com/v3/players\"\n",
    "\n",
    "#list to store all player info\n",
    "all_player_info = {}\n",
    "start_season = 2019\n",
    "end_season = 2024\n",
    "start_page = 1\n",
    "end_page = 500\n",
    "\n",
    "# Loop through seasons and pages\n",
    "for l in league_numbers:\n",
    "    for year in range(start_season, end_season):\n",
    "        # Create a dictionary to store data for the current season\n",
    "        season_data = {}\n",
    "        for p in range(start_page, end_page+1):\n",
    "            # Query string\n",
    "            querystring = {\"league\": l,\"season\": str(year), \"page\": str(p)}\n",
    "\n",
    "            # Retrieving data from API URL \n",
    "            response_players = requests.get(url_player, headers=headers, params=querystring)\n",
    "\n",
    "            # Check if request was successful\n",
    "            if response_players.status_code == 200:\n",
    "                season_data[f\"Page_{p}\"] = response_players.json()\n",
    "                print(p)\n",
    "            else:\n",
    "                print(f\"Failed to fetch data for season {year}, page {p}\")\n",
    "\n",
    "        # Store the data for the current season\n",
    "        key = f\"{l}_{year}\"\n",
    "        all_player_info[key] = season_data\n",
    "\n",
    "# Print player stats\n",
    "print(json.dumps(all_player_info, indent=4))"
   ]
  },
  {
   "cell_type": "code",
   "execution_count": null,
   "metadata": {},
   "outputs": [],
   "source": [
    "#Create a list for data \n",
    "player_table_data = []"
   ]
  },
  {
   "cell_type": "code",
   "execution_count": null,
   "metadata": {},
   "outputs": [],
   "source": [
    "# Loop through league ID, year, and pages \n",
    "for l in league_numbers:\n",
    "    for year in range(start_season, end_season):\n",
    "        for p in range(start_page, end_page+1):\n",
    "            key = f\"{l}_{year}\"\n",
    "            page = f\"Page_{p}\"\n",
    "            for x in range(len((all_player_info[key][page]['response']))):\n",
    "                player_info= [\n",
    "                all_player_info[key][page]['response'][x]['statistics'][0]['league']['name'] ,#league\n",
    "                all_player_info[key][page]['response'][x]['statistics'][0]['league']['season'] ,#season\n",
    "                all_player_info[key][page]['response'][x]['player']['lastname'], #LastName\n",
    "                all_player_info[key][page]['response'][x]['player']['firstname'], #FirstName\n",
    "                all_player_info[key][page]['response'][x]['player']['age'], #Age\n",
    "                all_player_info[key][page]['response'][x]['player']['birth']['place'],#City\n",
    "                all_player_info[key][page]['response'][x]['player']['birth']['country'],#Country\n",
    "                all_player_info[key][page]['response'][x]['statistics'][0]['team']['name'] ,#TeamName\n",
    "                all_player_info[key][page]['response'][x]['statistics'][0]['games']['position'], #Posistion\n",
    "                all_player_info[key][page]['response'][x]['statistics'][0]['games']['number'], #PlayerNumber\n",
    "                all_player_info[key][page]['response'][x]['statistics'][0]['games']['appearences'], #NumberOfAppearences\n",
    "                all_player_info[key][page]['response'][x]['statistics'][0]['games']['minutes'], #GameTime\n",
    "                all_player_info[key][page]['response'][x]['statistics'][0]['substitutes']['in'], #Number of Sub ins\n",
    "                all_player_info[key][page]['response'][x]['statistics'][0]['substitutes']['in'] ,#Number of Sub outs\n",
    "                all_player_info[key][page]['response'][x]['statistics'][0]['substitutes']['in'] ,#Number of Times Benched\n",
    "                all_player_info[key][page]['response'][x]['statistics'][0]['shots']['total'], #Total Shots\n",
    "                all_player_info[key][page]['response'][x]['statistics'][0]['shots']['on'], #Total Shots On Goal\n",
    "                all_player_info[key][page]['response'][x]['statistics'][0]['goals']['total'], #Total Goals Scored\n",
    "                all_player_info[key][page]['response'][x]['statistics'][0]['goals']['assists'], #Number of Goals Assists\n",
    "                all_player_info[key][page]['response'][x]['statistics'][0]['goals']['conceded'], #Number of Goals Conceded\n",
    "                all_player_info[key][page]['response'][x]['statistics'][0]['goals']['saves'], #Number of Goals Saved\n",
    "                all_player_info[key][page]['response'][x]['statistics'][0]['passes']['total'], #Total passes\n",
    "                all_player_info[key][page]['response'][x]['statistics'][0]['passes']['key'], #Number of Key Passes\n",
    "                all_player_info[key][page]['response'][x]['statistics'][0]['passes']['accuracy'], #Passing Accuracy\n",
    "                all_player_info[key][page]['response'][x]['statistics'][0]['tackles']['total'], #Total Tackles\n",
    "                all_player_info[key][page]['response'][x]['statistics'][0]['tackles']['blocks'], #Total Blocks\n",
    "                all_player_info[key][page]['response'][x]['statistics'][0]['tackles']['interceptions'], #Number of Interceptions\n",
    "                all_player_info[key][page]['response'][x]['statistics'][0]['duels']['total'], #Total Duels\n",
    "                all_player_info[key][page]['response'][x]['statistics'][0]['duels']['won'], #Number of Duels Won \n",
    "                all_player_info[key][page]['response'][x]['statistics'][0]['dribbles']['attempts'], #Total Dribble Attempts\n",
    "                all_player_info[key][page]['response'][x]['statistics'][0]['dribbles']['success'], #Total Successful Dribbles\n",
    "                all_player_info[key][page]['response'][x]['statistics'][0]['dribbles']['past'], #Total Dribble Past\n",
    "                all_player_info[key][page]['response'][x]['statistics'][0]['fouls']['drawn'], #Total Fouls Drawn\n",
    "                all_player_info[key][page]['response'][x]['statistics'][0]['fouls']['committed'], #Total Fouls Committed\n",
    "                all_player_info[key][page]['response'][x]['statistics'][0]['cards']['yellow'], #Total Yellow Cards\n",
    "                all_player_info[key][page]['response'][x]['statistics'][0]['cards']['red'], #Total Red cards \n",
    "                all_player_info[key][page]['response'][x]['statistics'][0]['cards']['yellowred'], #Total YellowRed cards \n",
    "                all_player_info[key][page]['response'][x]['statistics'][0]['penalty']['won'], #Number of Penalties Won\n",
    "                all_player_info[key][page]['response'][x]['statistics'][0]['penalty']['commited'], #Number of Penalties Commited\n",
    "                all_player_info[key][page]['response'][x]['statistics'][0]['penalty']['scored'], #Number of Penalties Scored\n",
    "                all_player_info[key][page]['response'][x]['statistics'][0]['penalty']['missed'], #Number of Penalties Missed\n",
    "                all_player_info[key][page]['response'][x]['statistics'][0]['penalty']['saved'] #Number of Penalties Saved\n",
    "                ]       \n",
    "                #adding player info to list after each iteration \n",
    "                player_table_data.append(player_info)\n"
   ]
  },
  {
   "cell_type": "code",
   "execution_count": null,
   "metadata": {},
   "outputs": [],
   "source": [
    "#passing data and defining column names\n",
    "player_df = pd.DataFrame(player_table_data, columns=[\n",
    "    'League',\n",
    "    'Season',\n",
    "    'Last Name',\n",
    "    'First Name',\n",
    "    'Age',\n",
    "    'City',\n",
    "    'Country',\n",
    "    'Team Name',\n",
    "    'Position',\n",
    "    'Player Number',\n",
    "    'Number Of Appearances',\n",
    "    'Game Time',\n",
    "    'Number of Sub-ins',\n",
    "    'Number of Sub-outs',\n",
    "    'Number of Times Benched',\n",
    "    'Total Shots',\n",
    "    'Total Shots On Goal',\n",
    "    'Total Goals Scored',\n",
    "    'Number of Assists',\n",
    "    'Number of Goals Conceded',\n",
    "    'Number of Goals Saved',\n",
    "    'Total Passes',\n",
    "    'Number of Key Passes',\n",
    "    'Passing Accuracy',\n",
    "    'Total Tackles',\n",
    "    'Total Blocks',\n",
    "    'Number of Interceptions',\n",
    "    'Total Duels',\n",
    "    'Number of Duels Won',\n",
    "    'Total Dribble Attempts',\n",
    "    'Total Successful Dribbles',\n",
    "    'Total Dribbles Past',\n",
    "    'Total Fouls Drawn',\n",
    "    'Total Fouls Committed',\n",
    "    'Total Yellow Cards',\n",
    "    'Total Red Cards',\n",
    "    'Total YellowRed Cards',\n",
    "    'Number of Penalties Won',\n",
    "    'Number of Penalties Committed',\n",
    "    'Number of Penalties Scored',\n",
    "    'Number of Penalties Missed',\n",
    "    'Number of Penalties Saved'\n",
    "])"
   ]
  },
  {
   "cell_type": "code",
   "execution_count": null,
   "metadata": {},
   "outputs": [],
   "source": [
    "#Converting Raw Data to Csv\n",
    "player_df.to_csv('First_Macedonia_League_Raw.csv', index=False)\n"
   ]
  },
  {
   "cell_type": "markdown",
   "metadata": {},
   "source": [
    "# Cleaning Data"
   ]
  },
  {
   "cell_type": "code",
   "execution_count": null,
   "metadata": {},
   "outputs": [],
   "source": [
    "#Checking empty rows and columns \n",
    "empty_rows = player_df[player_df.isnull().all(axis=1)].index\n",
    "empty_columns = player_df.columns[player_df.isnull().all(axis=0)]"
   ]
  },
  {
   "cell_type": "code",
   "execution_count": null,
   "metadata": {},
   "outputs": [],
   "source": [
    "#If rowns are empty drop them, if not statement evalautes if boolean equals to false\n",
    "if not empty_rows.empty:\n",
    "    player_df.drop(empty_rows, axis=0, inplace=True)\n",
    "else:\n",
    "    print(\"No empty rows\")\n",
    "\n",
    "#If columns are mpty drop them \n",
    "if not empty_columns.empty:\n",
    "    player_df.drop(empty_columns, axis=1, inplace=True)\n",
    "else:\n",
    "    print(\"No empty columns\")"
   ]
  },
  {
   "cell_type": "code",
   "execution_count": null,
   "metadata": {},
   "outputs": [],
   "source": [
    "#Dropping City column due to lack of data\n",
    "player_df.drop('City', axis=1, inplace=True)\n",
    "player_df.head()"
   ]
  },
  {
   "cell_type": "code",
   "execution_count": null,
   "metadata": {},
   "outputs": [],
   "source": [
    "#Looping through dataframe\n",
    "for i in range(len(player_df)):\n",
    "    #Calculating Goals per appearence to determine highest coversion rates for players\n",
    "    player_df['Goals Per Appearance'] = (player_df['Total Goals Scored'])/(player_df['Number Of Appearances'])\n",
    "    #Calculating SUbstitutions per game\n",
    "    player_df['Number of Substituions per Game'] = (player_df['Number of Sub-ins'] + player_df['Number of Sub-outs'])/(player_df['Number Of Appearances'])\n",
    "    #Calculating Minutes per Appearence\n",
    "    player_df['Avg Minutes per Appearance'] = (player_df['Game Time'])/(player_df['Number Of Appearances'])\n",
    "    #Calculating Yellow Cards Rate\n",
    "    player_df['Yellow Card Rate'] = (player_df['Total Yellow Cards'])/(player_df['Avg Minutes per Appearance'])\n",
    "    #Calculating Red Cards Rate\n",
    "    player_df['Red Card Rate'] = (player_df['Total Red Cards'])/(player_df['Avg Minutes per Appearance'])\n",
    "    #Calculating YellowRed Card Rate\n",
    "    player_df['YellowRed Card Rate'] = (player_df['Total YellowRed Cards'])/(player_df['Avg Minutes per Appearance'])"
   ]
  },
  {
   "cell_type": "code",
   "execution_count": null,
   "metadata": {},
   "outputs": [],
   "source": [
    "player_df.head()"
   ]
  },
  {
   "cell_type": "code",
   "execution_count": null,
   "metadata": {},
   "outputs": [],
   "source": [
    "#Checking dataframe datatypes\n",
    "player_df['Season'].unique()\n",
    "#Repalce Season Nubmers \n",
    "# Replace values in 'Column2'\n",
    "player_df['Season'].replace({'2019': '2019-2020', '2020': '2020-2021', '2021': '2021-2022', '2022': '2022-2023', '2023': '2023-2024'}, inplace=True)\n"
   ]
  },
  {
   "cell_type": "code",
   "execution_count": null,
   "metadata": {},
   "outputs": [],
   "source": [
    "#Changing Team Names to offical listed names\n",
    "player_df['Team Name'].unique()\n",
    "player_df['Team Name'].replace({'Sileks': 'FK Sileks', \n",
    "'Borec ': 'FK Borec',\n",
    "'Renova':'KF Renova',\n",
    "'Vardar Skopje': 'FK Vardar' ,\n",
    "'Akademija Pandev': 'Brera Strumica',\n",
    "'Makedonija GjP': 'FK Makedonija G.P.',\n",
    "'Shkendija': 'KF Shkëndija',\n",
    "'Shkupi 1927': 'KF Shkupi',\n",
    "'Struga': 'FC Struga',\n",
    "'Pelister': 'FK Pelister',\n",
    "'Belasica': 'FK Belasica',\n",
    "'Skopje': 'FK Skopje',\n",
    "'Bregalnica Štip': 'FK Bregalnica Štip',\n",
    "'Tikveš': 'GFK Tikvesh',\n",
    "'Pobeda': 'FK Pobeda',\n",
    "'Voska Sport': 'FK Voska Sport'\n",
    "}, inplace=True)"
   ]
  },
  {
   "cell_type": "code",
   "execution_count": null,
   "metadata": {},
   "outputs": [],
   "source": [
    "#Change all NAs to 0\n",
    "player_df.fillna(0, inplace=True)"
   ]
  },
  {
   "cell_type": "code",
   "execution_count": null,
   "metadata": {},
   "outputs": [],
   "source": [
    "#check data types \n",
    "# Define dictionary with column names and desired data types\n",
    "dtypes_dict = {\n",
    "    'League': str,\n",
    "    'Season': int,\n",
    "    'Last Name': str,\n",
    "    'First Name': str,\n",
    "    'Age': int,\n",
    "    'Country': 'category',\n",
    "    'Team Name': 'category',\n",
    "    'Position': 'category',\n",
    "    'Number Of Appearances': int,\n",
    "    'Game Time': float,\n",
    "    'Number of Sub-ins': int,\n",
    "    'Number of Sub-outs': int,\n",
    "    'Number of Times Benched': int,\n",
    "    'Total Goals Scored': int,\n",
    "    'Total Yellow Cards': int,\n",
    "    'Total Red Cards': int,\n",
    "    'Total YellowRed Cards': int,\n",
    "    'Goals Per Appearance': float,\n",
    "    'Number of Substituions per Game': float,\n",
    "    'Avg Minutes per Appearance': float,\n",
    "    'Yellow Card Rate': float,\n",
    "    'Red Card Rate': float,\n",
    "    'YellowRed Card Rate': float\n",
    "}\n",
    "\n",
    "# Change data types of columns\n",
    "first_league_df = player_df.astype(dtypes_dict)"
   ]
  },
  {
   "cell_type": "code",
   "execution_count": null,
   "metadata": {},
   "outputs": [],
   "source": [
    "#Verifying datatypes were chagned \n",
    "first_league_df.dtypes"
   ]
  },
  {
   "cell_type": "code",
   "execution_count": null,
   "metadata": {},
   "outputs": [],
   "source": [
    "#Converting First Macedonia League data to Csv\n",
    "first_league_df.to_csv('First_Macedonia_League_Clean.csv', index=False)"
   ]
  }
 ],
 "metadata": {
  "kernelspec": {
   "display_name": "Python 3 (ipykernel)",
   "language": "python",
   "name": "python3"
  },
  "language_info": {
   "codemirror_mode": {
    "name": "ipython",
    "version": 3
   },
   "file_extension": ".py",
   "mimetype": "text/x-python",
   "name": "python",
   "nbconvert_exporter": "python",
   "pygments_lexer": "ipython3",
   "version": "3.10.12"
  },
  "varInspector": {
   "cols": {
    "lenName": 16,
    "lenType": 16,
    "lenVar": 40
   },
   "kernels_config": {
    "python": {
     "delete_cmd_postfix": "",
     "delete_cmd_prefix": "del ",
     "library": "var_list.py",
     "varRefreshCmd": "print(var_dic_list())"
    },
    "r": {
     "delete_cmd_postfix": ") ",
     "delete_cmd_prefix": "rm(",
     "library": "var_list.r",
     "varRefreshCmd": "cat(var_dic_list()) "
    }
   },
   "types_to_exclude": [
    "module",
    "function",
    "builtin_function_or_method",
    "instance",
    "_Feature"
   ],
   "window_display": false
  }
 },
 "nbformat": 4,
 "nbformat_minor": 2
}
