{
 "cells": [
  {
   "cell_type": "code",
   "execution_count": null,
   "metadata": {},
   "outputs": [],
   "source": [
    "# importing Dependencies\n",
    "import requests\n",
    "import json\n",
    "import pandas as pd"
   ]
  },
  {
   "cell_type": "code",
   "execution_count": null,
   "metadata": {},
   "outputs": [],
   "source": [
    "# Define API endpoints and headers\n",
    "teams_url = \"https://api-football-v1.p.rapidapi.com/v3/teams\"\n",
    "stats_url = \"https://api-football-v1.p.rapidapi.com/v3/teams/statistics\"\n",
    "headers = {\n",
    "    \"X-RapidAPI-Key\": \"e745f20ff6mshb3a174087c1d159p11ee9ejsn4221f696691e\",\n",
    "    \"X-RapidAPI-Host\": \"api-football-v1.p.rapidapi.com\"\n",
    "}\n",
    "\n",
    "# Define the range of seasons\n",
    "start_season = 2019\n",
    "end_season = 2024\n",
    "league_id = \"371\"  # Example league ID\n",
    "\n",
    "# Initialize an empty list to hold all team IDs\n",
    "all_team_ids = []\n",
    "\n",
    "# Function to fetch teams for a given season and add their IDs to all_team_ids\n",
    "def fetch_teams_for_season(season):\n",
    "    querystring = {\"league\": league_id, \"season\": str(season)}\n",
    "    response = requests.get(teams_url, headers=headers, params=querystring)\n",
    "    \n",
    "    if response.status_code == 200:\n",
    "        data = response.json()\n",
    "        for team in data['response']:\n",
    "            team_id = team['team']['id']\n",
    "            if team_id not in all_team_ids:\n",
    "                all_team_ids.append(team_id)\n",
    "    else:\n",
    "        print(f\"Failed to fetch teams for season {season}: {response.status_code}\")\n",
    "\n",
    "# Fetch teams for all seasons\n",
    "for year in range(start_season, end_season):\n",
    "    fetch_teams_for_season(year)\n",
    "\n",
    "# Initialize a list to hold all statistics data\n",
    "all_stats_data = []\n",
    "\n",
    "# Function to fetch statistics for a given team and season\n",
    "def fetch_team_statistics(season, team_id):\n",
    "    querystring = {\"league\": league_id, \"season\": str(season), \"team\": str(team_id)}\n",
    "    response = requests.get(stats_url, headers=headers, params=querystring)\n",
    "    \n",
    "    if response.status_code == 200:\n",
    "        data = response.json()\n",
    "        all_stats_data.append(data)\n",
    "    else:\n",
    "        print(f\"Failed to fetch stats for team {team_id} in season {season}: {response.status_code}\")\n",
    "\n",
    "# Fetch statistics for all teams in all seasons\n",
    "for year in range(start_season, end_season):\n",
    "    for team_id in all_team_ids:\n",
    "        fetch_team_statistics(year, team_id)\n",
    "\n",
    "# Print the aggregated statistics data in a formatted way\n",
    "print(json.dumps(all_stats_data, indent=4))"
   ]
  },
  {
   "cell_type": "code",
   "execution_count": null,
   "metadata": {},
   "outputs": [],
   "source": [
    "#Team data table \n",
    "team_data_table = []\n",
    "\n",
    "#looping through JSON \n",
    "for entry in all_stats_data:\n",
    "    response = entry[\"response\"]\n",
    "    team_entry = {\n",
    "        \"Team Name\": response[\"team\"][\"name\"],\n",
    "        \"Season\": response[\"league\"][\"season\"],\n",
    "        \"Total Games Played\": response[\"fixtures\"][\"played\"][\"total\"],\n",
    "        \"Total Wins\": response[\"fixtures\"][\"wins\"][\"total\"],\n",
    "        \"Total Draws\": response[\"fixtures\"][\"draws\"][\"total\"],\n",
    "        \"Total Loses\": response[\"fixtures\"][\"loses\"][\"total\"],\n",
    "        \"Total Goals\": response[\"goals\"][\"for\"][\"total\"][\"total\"],\n",
    "        \"Average Goal Scored\": response[\"goals\"][\"for\"][\"average\"][\"total\"],\n",
    "        \"Total Goals Conceded\": response[\"goals\"][\"against\"][\"total\"][\"total\"],\n",
    "        \"Average Goals Conceded\": response[\"goals\"][\"against\"][\"average\"][\"total\"],\n",
    "        \"Biggest Win Streak\": response[\"biggest\"][\"streak\"][\"wins\"],\n",
    "        \"Biggest Draw Streak\": response[\"biggest\"][\"streak\"][\"draws\"],\n",
    "        \"Biggest Losing Streak\": response[\"biggest\"][\"streak\"][\"loses\"],\n",
    "        \"Total Clean Sheet Games\": response[\"clean_sheet\"][\"total\"],\n",
    "        \"Total Games with no goals\": response[\"failed_to_score\"][\"total\"],\n",
    "        \"Total Penalties Scored\": response[\"penalty\"][\"scored\"][\"total\"],\n",
    "        \"Total Penalties Missed\": response[\"penalty\"][\"missed\"][\"total\"]\n",
    "    }\n",
    "\n",
    "    team_data_table.append(team_entry)\n",
    "\n",
    "\n",
    "#passing data and defining column names\n",
    "team_stats_df = pd.DataFrame(team_data_table)\n",
    "\n",
    "team_stats_df.head()"
   ]
  },
  {
   "cell_type": "code",
   "execution_count": null,
   "metadata": {},
   "outputs": [],
   "source": [
    "#check data types \n",
    "# Define dictionary with column names and desired data types\n",
    "dtypes_dict = {\n",
    "    \"Team Name\": str,\n",
    "    \"Season\": int,\n",
    "    \"Total Games Played\": int,\n",
    "    \"Total Wins\": int,\n",
    "    \"Total Draws\": int,\n",
    "    \"Total Loses\": int,\n",
    "    \"Total Goals\": int,\n",
    "    \"Average Goal Scored\": float,\n",
    "    \"Total Goals Conceded\": int,\n",
    "    \"Average Goals Conceded\": float,\n",
    "    \"Biggest Win Streak\": int,\n",
    "    \"Biggest Draw Streak\": int,\n",
    "    \"Biggest Losing Streak\": int,\n",
    "    \"Total Clean Sheet Games\": int,\n",
    "    \"Total Games with no goals\": int,\n",
    "    \"Total Penalties Scored\": int,\n",
    "    \"Total Penalties Missed\": int\n",
    "}\n",
    "\n",
    "# Change data types of columns\n",
    "team_stats_1_df = team_stats_df.astype(dtypes_dict)"
   ]
  },
  {
   "cell_type": "code",
   "execution_count": null,
   "metadata": {},
   "outputs": [],
   "source": [
    "# Remove rows where all columns except 'Team Name' and 'Season' are zero\n",
    "df_filtered = team_stats_1_df.loc[~(team_stats_1_df.drop(columns=['Team Name', 'Season']) == 0).all(axis=1)]"
   ]
  },
  {
   "cell_type": "code",
   "execution_count": null,
   "metadata": {},
   "outputs": [],
   "source": [
    "#Converting First Macedonia League data to Csv\n",
    "df_filtered.to_csv('First_Macedonia_League_Team_Stats.csv', index=False)"
   ]
  }
 ],
 "metadata": {
  "kernelspec": {
   "display_name": "Python 3 (ipykernel)",
   "language": "python",
   "name": "python3"
  },
  "language_info": {
   "codemirror_mode": {
    "name": "ipython",
    "version": 3
   },
   "file_extension": ".py",
   "mimetype": "text/x-python",
   "name": "python",
   "nbconvert_exporter": "python",
   "pygments_lexer": "ipython3",
   "version": "3.10.12"
  },
  "varInspector": {
   "cols": {
    "lenName": 16,
    "lenType": 16,
    "lenVar": 40
   },
   "kernels_config": {
    "python": {
     "delete_cmd_postfix": "",
     "delete_cmd_prefix": "del ",
     "library": "var_list.py",
     "varRefreshCmd": "print(var_dic_list())"
    },
    "r": {
     "delete_cmd_postfix": ") ",
     "delete_cmd_prefix": "rm(",
     "library": "var_list.r",
     "varRefreshCmd": "cat(var_dic_list()) "
    }
   },
   "types_to_exclude": [
    "module",
    "function",
    "builtin_function_or_method",
    "instance",
    "_Feature"
   ],
   "window_display": false
  }
 },
 "nbformat": 4,
 "nbformat_minor": 2
}
